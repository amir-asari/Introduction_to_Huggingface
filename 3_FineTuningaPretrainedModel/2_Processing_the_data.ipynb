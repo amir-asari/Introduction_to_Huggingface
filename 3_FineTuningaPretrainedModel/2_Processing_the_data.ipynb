{
  "cells": [
    {
      "cell_type": "markdown",
      "metadata": {
        "id": "view-in-github",
        "colab_type": "text"
      },
      "source": [
        "<a href=\"https://colab.research.google.com/github/amir-asari/Introduction_to_Huggingface/blob/main/3_FineTuningaPretrainedModel/2_Processing_the_data.ipynb\" target=\"_parent\"><img src=\"https://colab.research.google.com/assets/colab-badge.svg\" alt=\"Open In Colab\"/></a>"
      ]
    },
    {
      "cell_type": "markdown",
      "metadata": {
        "id": "uzWycI9AGRWv"
      },
      "source": [
        "# Huggingface standard pipeline"
      ]
    },
    {
      "cell_type": "markdown",
      "metadata": {
        "id": "5YpiBrFXGRWy"
      },
      "source": [
        "**Standard Pipeline**\n",
        "```python\n",
        "import torch\n",
        "import transformers as huggingface_transformers\n",
        "\n",
        "checkpoint  = \"bert-base-uncased\"\n",
        "# STEP 1: TOKENIZER. (WORD TO NUMERIC UNIQUE ID)\n",
        "tokenizer   = huggingface_transformers.AutoTokenizer                        .from_pretrained(checkpoint)\n",
        "# STEP 2: PRE TRAINED MODEL (NUM_ID to MEANING_VECTOR OF EACH WORD -> FURTHER PROCESSING)\n",
        "model       = huggingface_transformers.AutoModel For Sequence Classification   .from_pretrained(checkpoint)\n",
        "\n",
        "# STEP 3: LIST OF SENTENCES\n",
        "input_sequences   = [\n",
        "                \"I've been waiting for a HuggingFace course my whole life.\",\n",
        "                \"This course is amazing!\",\n",
        "              ]\n",
        "\n",
        "# STEP 4: SENTENCE OF WORDS -> NUMERIC_IDS -> MODEL\n",
        "tokenized_batch_tensors = tokenizer(input_sequences, padding=True, truncation=True, return_tensors=\"pt\")\n",
        "\n",
        "y_predicted = model ( **tokenized_batch_tensors )\n",
        "print(y_predicted)\n",
        "\n",
        "```"
      ]
    },
    {
      "cell_type": "code",
      "execution_count": null,
      "metadata": {
        "id": "fAaUgZHrGRWy"
      },
      "outputs": [],
      "source": [
        "import torch\n",
        "import datasets     as huggingface_datasets\n",
        "import transformers as huggingface_transformers\n",
        "\n",
        "checkpoint              = \"bert-base-uncased\"\n",
        "tokenizer_pretrained    = huggingface_transformers.AutoTokenizer.from_pretrained(checkpoint)"
      ]
    },
    {
      "cell_type": "markdown",
      "metadata": {
        "id": "tVYzYMedGRW0"
      },
      "source": [
        "## Downloading & exploring Dataset"
      ]
    },
    {
      "cell_type": "markdown",
      "metadata": {
        "id": "cf3hV9oRGRW0"
      },
      "source": [
        "**Important NLP Datasets, must know for everyone**"
      ]
    },
    {
      "cell_type": "code",
      "execution_count": null,
      "metadata": {
        "id": "i2-qTJfkGRW0"
      },
      "outputs": [],
      "source": [
        "raw_datasets = huggingface_datasets.load_dataset(\"glue\", \"mrpc\")"
      ]
    },
    {
      "cell_type": "code",
      "execution_count": null,
      "metadata": {
        "id": "MO4bo6nMGRW1",
        "outputId": "c1b2f001-6302-47f7-b656-25539b16e08f"
      },
      "outputs": [
        {
          "name": "stdout",
          "output_type": "stream",
          "text": [
            "DatasetDict({\n",
            "    train: Dataset({\n",
            "        features: ['sentence1', 'sentence2', 'label', 'idx'],\n",
            "        num_rows: 3668\n",
            "    })\n",
            "    validation: Dataset({\n",
            "        features: ['sentence1', 'sentence2', 'label', 'idx'],\n",
            "        num_rows: 408\n",
            "    })\n",
            "    test: Dataset({\n",
            "        features: ['sentence1', 'sentence2', 'label', 'idx'],\n",
            "        num_rows: 1725\n",
            "    })\n",
            "})\n"
          ]
        }
      ],
      "source": [
        "print(raw_datasets)"
      ]
    },
    {
      "cell_type": "code",
      "execution_count": null,
      "metadata": {
        "id": "nLiQ17pRGRW2"
      },
      "outputs": [],
      "source": [
        "train, validation, test = raw_datasets['train'], raw_datasets['validation'], raw_datasets['test']"
      ]
    },
    {
      "cell_type": "code",
      "execution_count": null,
      "metadata": {
        "id": "sZsxDZfCGRW2",
        "outputId": "467c3770-4e0c-43ad-fc61-e129f3e4c02f"
      },
      "outputs": [
        {
          "data": {
            "text/plain": [
              "Dataset({\n",
              "    features: ['sentence1', 'sentence2', 'label', 'idx'],\n",
              "    num_rows: 3668\n",
              "})"
            ]
          },
          "execution_count": 7,
          "metadata": {},
          "output_type": "execute_result"
        }
      ],
      "source": [
        "train"
      ]
    },
    {
      "cell_type": "code",
      "execution_count": null,
      "metadata": {
        "id": "J13iyfgnGRW3",
        "outputId": "8ccfc54d-6196-49c4-d755-42159b9a6fb2"
      },
      "outputs": [
        {
          "data": {
            "text/plain": [
              "{'sentence1': 'Amrozi accused his brother , whom he called \" the witness \" , of deliberately distorting his evidence .',\n",
              " 'sentence2': 'Referring to him as only \" the witness \" , Amrozi accused his brother of deliberately distorting his evidence .',\n",
              " 'label': 1,\n",
              " 'idx': 0}"
            ]
          },
          "execution_count": 8,
          "metadata": {},
          "output_type": "execute_result"
        }
      ],
      "source": [
        "train[0]"
      ]
    },
    {
      "cell_type": "code",
      "execution_count": null,
      "metadata": {
        "id": "Q6DpHhjwGRW3",
        "outputId": "684609b5-8734-4b7a-9d02-074f2806ca39"
      },
      "outputs": [
        {
          "data": {
            "text/plain": [
              "{'sentence1': ['Amrozi accused his brother , whom he called \" the witness \" , of deliberately distorting his evidence .',\n",
              "  \"Yucaipa owned Dominick 's before selling the chain to Safeway in 1998 for $ 2.5 billion .\",\n",
              "  'They had published an advertisement on the Internet on June 10 , offering the cargo for sale , he added .'],\n",
              " 'sentence2': ['Referring to him as only \" the witness \" , Amrozi accused his brother of deliberately distorting his evidence .',\n",
              "  \"Yucaipa bought Dominick 's in 1995 for $ 693 million and sold it to Safeway for $ 1.8 billion in 1998 .\",\n",
              "  \"On June 10 , the ship 's owners had published an advertisement on the Internet , offering the explosives for sale .\"],\n",
              " 'label': [1, 0, 1],\n",
              " 'idx': [0, 1, 2]}"
            ]
          },
          "execution_count": 9,
          "metadata": {},
          "output_type": "execute_result"
        }
      ],
      "source": [
        "train[0:3]"
      ]
    },
    {
      "cell_type": "code",
      "execution_count": null,
      "metadata": {
        "id": "00DElLTMGRW4",
        "outputId": "bb95f6b9-c379-46df-803f-53a3e7e08838"
      },
      "outputs": [
        {
          "data": {
            "text/plain": [
              "{'_info': DatasetInfo(description='', citation='', homepage='', license='', features={'sentence1': Value(dtype='string', id=None), 'sentence2': Value(dtype='string', id=None), 'label': ClassLabel(names=['not_equivalent', 'equivalent'], id=None), 'idx': Value(dtype='int32', id=None)}, post_processed=None, supervised_keys=None, task_templates=None, builder_name='parquet', dataset_name='glue', config_name='mrpc', version=0.0.0, splits={'train': SplitInfo(name='train', num_bytes=944761, num_examples=3668, shard_lengths=None, dataset_name='glue'), 'validation': SplitInfo(name='validation', num_bytes=105981, num_examples=408, shard_lengths=None, dataset_name='glue'), 'test': SplitInfo(name='test', num_bytes=442842, num_examples=1725, shard_lengths=None, dataset_name='glue')}, download_checksums={'hf://datasets/glue@bcdcba79d07bc864c1c254ccfcedcce55bcc9a8c/mrpc/train-00000-of-00001.parquet': {'num_bytes': 649281, 'checksum': None}, 'hf://datasets/glue@bcdcba79d07bc864c1c254ccfcedcce55bcc9a8c/mrpc/validation-00000-of-00001.parquet': {'num_bytes': 75678, 'checksum': None}, 'hf://datasets/glue@bcdcba79d07bc864c1c254ccfcedcce55bcc9a8c/mrpc/test-00000-of-00001.parquet': {'num_bytes': 308441, 'checksum': None}}, download_size=1033400, post_processing_size=None, dataset_size=1493584, size_in_bytes=2526984),\n",
              " '_split': NamedSplit('train'),\n",
              " '_indexes': {},\n",
              " '_data': MemoryMappedTable\n",
              " sentence1: string\n",
              " sentence2: string\n",
              " label: int64\n",
              " idx: int32\n",
              " ----\n",
              " sentence1: [[\"Amrozi accused his brother , whom he called \" the witness \" , of deliberately distorting his evidence .\",\"Yucaipa owned Dominick 's before selling the chain to Safeway in 1998 for $ 2.5 billion .\",\"They had published an advertisement on the Internet on June 10 , offering the cargo for sale , he added .\",\"Around 0335 GMT , Tab shares were up 19 cents , or 4.4 % , at A $ 4.56 , having earlier set a record high of A $ 4.57 .\",\"The stock rose $ 2.11 , or about 11 percent , to close Friday at $ 21.51 on the New York Stock Exchange .\",...,\"The G + J executive was testifying in Manhattan 's State Supreme Court where O 'Donnell and G + J are suing each other for breach of contract .\",\"By 10 p.m. , Claudette was centered about 320 miles east of Brownsville , with maximum sustained winds of 65 mph , 9 mph shy of hurricane strength .\",\"Jim Furyk celebrated his first Father 's Day as a father by winning his first major golf championship .\",\"\" We must not engage in borough warfare , \" Thompson testified at a budget hearing by the City Council 's Finance Committee .\",\"The Standard & Poor 's 500 Index slipped 3.14 points , or 0.29 percent , to 1,071.99 .\"],[\"He took batting practice on the field for the second time Tuesday since his opening-day injury .\",\"The redesigned Finder also features search , coloured labels for customized organization of documents and projects and dynamic browsing of the network for Mac , Windows and UNIX file servers .\",\"But to see those pages , users would be required by Amazon to register , and Amazon plans to limit the amount of any single book a customer can view .\",\"Also Thursday , the NYSE 's board elected six new directors - three non-industry representatives and three industry representatives .\",\"Between 1993 and 2002 , 142 allegations of sexual assault were reported .\",...,\"The technology-loaded Nasdaq Composite Index .IXIC added 0.35 of a point , or 0.02 percent , to 1,662 .\",\"\" This will be a marathon , not a sprint , \" said Jimmy D. Staton , a senior vice president with the utility .\",\"\" I am listening to the same things I listened to 17 years ago , \" Hollings said .\",\"Heatley was sixth in the league in goals last season with 41 and ninth in points with 89 .\",\"The cables can be engorged with far more power , and it can be turned on and off like a water spigot , making billing more accurate , Taub said .\"],[\"Law enforcement sources who spoke on condition of anonymity confirmed to The Associated Press that Limbaugh was being investigated by the Palm Beach County state attorney 's office .\",\"One of the most well studied facets of temperament is how people respond to novelty .\",\"July 18 : Hurlbert files a single count of felony sexual assault against Bryant .\",\"Mr Koizumi rebuked Mr Konoike , saying his remarks were \" inappropriate \" .\",\"The CBO analysis of the Senate package said an amendment sponsored by Sen. Maria Cantwell , D-Wash . , accounted for $ 40 billion of the total cost .\",...,\"On Hebert 's body were his wallet , driver license and cell phone , its batteries drained , Tracy said .\",\"Drewes and a friend were playing a game of \" ding-dong-ditch \" -- ringing doorbells and running away -- in the Woodbury neighborhood in suburban Boca Raton .\",\"Advertising and circulation revenues from the flagship Martha Stewart Living magazine have declined .\",\"That risk , described as minor , remains \" the predominant concern for the foreseeable future , \" the statement released after the Fed meeting said .\",\"But right now it looks manageable , \" Gehman told reporters .\"],[\"Elsewhere in the diary , Truman showed a more familiar side , colorful and outspoken in his disdain for life in the White House .\",\"Russian Yuri Malenchenko , American Edward Lu and Pedro Duque of Spain landed in their Soyuz TMA-2 capsule at 0240 GMT .\",\"Authorities in Alabama said the passage of time , and the transfer or retirement of some investigators , has not hurt their case .\",\"Fasting glucose was 142 mg / dL on average for those given usual care , compared with 129 mg / dL in the group given specialized care ( P < .01 ) .\",\"The victim , who was also not identified , was taken to Kings County Hospital in critical condition .\",...,\"\" At this point , Mr. Brando announced : ' Somebody ought to put a bullet ' \" through her head , the motion continued .\",\"Martin , 58 , will be freed today after serving two thirds of his five-year sentence for the manslaughter of 16-year-old Fred Barras .\",\"\" We have concluded that the outlook for price stability over the medium term has improved significantly since our last decision to lower interest rates , \" Duisenberg said .\",\"The notification was first reported Friday by MSNBC .\",\"The 30-year bond US30YT = RR rose 22 / 32 for a yield of 4.31 percent , versus 4.35 percent at Wednesday 's close .\"]]\n",
              " sentence2: [[\"Referring to him as only \" the witness \" , Amrozi accused his brother of deliberately distorting his evidence .\",\"Yucaipa bought Dominick 's in 1995 for $ 693 million and sold it to Safeway for $ 1.8 billion in 1998 .\",\"On June 10 , the ship 's owners had published an advertisement on the Internet , offering the explosives for sale .\",\"Tab shares jumped 20 cents , or 4.6 % , to set a record closing high at A $ 4.57 .\",\"PG & E Corp. shares jumped $ 1.63 or 8 percent to $ 21.03 on the New York Stock Exchange on Friday .\",...,\"He spoke in Manhattan 's State Supreme Court , where O 'Donnell and G + J sued each other for breach of contract .\",\"Early Monday , the center of Claudette was about 300 miles east of Brownsville , with maximum sustained wind blowing at 65 mph , 9 mph shy of hurricane strength .\",\"His first Father 's Day as a dad , his first major as a champion .\",\"\" We must not engage in borough warfare , \" the Comptroller William Thompson told the Council , according to his written testimony .\",\"The Standard & Poor 's retail index < .RLX > was up more than 1.5 percent .\"],[\"Jeter , who dislocated his left shoulder in a collision March 31 , took batting practice on the field for the first time Monday .\",\"It also supports coloured labels to better organise documents , and dynamic browsing of the network for Mac , Windows and Unix file servers .\",\"But to see those pages Amazon would require users to register , and it plans to limit the amount of any single book a browser can view .\",\"Also Thursday , the NYSE 's board elected six new directors to the board and re-elected six others .\",\"From 1993 to 2002 , there were 142 reported sexual assaults at the academy .\",...,\"The Nasdaq Composite Index .IXIC rose 17.48 points , or 1.06 percent , to 1,661.51 , based on the latest available figures .\",\"\" This will be a marathon , not a sprint , \" said Jimmy D. Staton , senior vice president of operations at Dominion Virginia Power .\",\"Im hearing the same things I listened to 17 years ago .\",\"Heatley led Atlanta in scoring last season with a team-record 41 goals and 48 assists .\",\"The cables can carry far more power , and can be turned on and off like water spigots , making billing more accurate , Taub said .\"],[\"Law enforcement officials confirmed that Limbaugh was being investigated by the Palm Beach County , Fla . , state attorney 's office .\",\"One of the defining and well-studied characteristics of temperament is how people react to novelty .\",\"Bryant , 24 , has been charged with felony sexual assault .\",\"Koizumi told reporters at his office that Konoike 's remarks were \" inappropriate . \"\",\"The budget office said one provision of the Senate bill accounted for $ 40 billion of the cost .\",...,\"He was identified by his driver 's license and cell phone , Utah County Sheriff Jim Tracy said .\",\"Drewes and his friend were pulling a mischievous , late-night game of \" ding-dong-ditch \" knocking on doors or ringing doorbells and running in the Woodbury neighborhood in suburban Boca Raton .\",\"Advertising and circulation revenues for Martha Stewart Living magazine have taken a hit .\",\"\" The risk of inflation becoming undesirably low remains the predominant concern for the foreseeable future , \" the policy-setting Federal Open Market Committee said .\",\"Right now it looks to me like it 's going to be manageable , \" he said .\"],[\"History aside , the diary reveals a colorful , witty , introspective and irreverent president outspoken in his disdain for life in the White House .\",\"Russian Yuri Malenchenko , American Edward Lu and Spain 's Pedro Duque came down in their Soyuz TMA-2 capsule at 2 : 40 a.m. GMT .\",\"Meantime , federal authorities in Alabama said the passage of time has not hurt their case against Rudolph .\",\"Fasting glucose , used to measure diabetes risk , was 142 on average for those given usual care compared to 129 in the group given special treatment .\",\"The shooting victim was taken to Kings County Hospital Center , where he later died , the police said .\",...,\"Brando said that \" somebody ought to put a bullet \" through her head , according to the defense .\",\"Martin served two thirds of a five-year sentence for the manslaughter of Barras and for wounding Fearon .\",\"In a statement , the ECB said the outlook for price stability over the medium term had \" improved significantly \" since its last decision to lower interest rates in March .\",\"MSNBC.com first reported the CIA request on Friday .\",\"The 30-year bond US30YT = RR grew 1-3 / 32 for a yield of 4.30 percent , down from 4.35 percent late Wednesday .\"]]\n",
              " label: [[1,0,1,0,1,...,1,1,1,1,0],[1,0,1,0,1,...,1,1,1,0,1],[1,1,0,1,1,...,0,1,1,1,1],[0,1,0,1,0,...,1,0,1,1,0]]\n",
              " idx: [[0,1,2,3,4,...,1114,1116,1117,1118,1119],[1120,1122,1123,1125,1126,...,2213,2214,2215,2216,2217],[2218,2219,2220,2221,2222,...,3326,3327,3328,3329,3330],[3331,3332,3333,3334,3335,...,4071,4072,4073,4074,4075]],\n",
              " '_indices': None,\n",
              " '_format_type': None,\n",
              " '_format_kwargs': {},\n",
              " '_format_columns': None,\n",
              " '_output_all_columns': False,\n",
              " '_fingerprint': '06da1f2e1a98bb54'}"
            ]
          },
          "execution_count": 10,
          "metadata": {},
          "output_type": "execute_result"
        }
      ],
      "source": [
        "vars(train)"
      ]
    },
    {
      "cell_type": "code",
      "execution_count": null,
      "metadata": {
        "id": "pfYvWDPeGRW4",
        "outputId": "9d69e82c-e4fc-472d-85a5-2b01a6762f76"
      },
      "outputs": [
        {
          "data": {
            "text/plain": [
              "{'sentence1': Value(dtype='string', id=None),\n",
              " 'sentence2': Value(dtype='string', id=None),\n",
              " 'label': ClassLabel(names=['not_equivalent', 'equivalent'], id=None),\n",
              " 'idx': Value(dtype='int32', id=None)}"
            ]
          },
          "execution_count": 11,
          "metadata": {},
          "output_type": "execute_result"
        }
      ],
      "source": [
        "train.features"
      ]
    },
    {
      "cell_type": "markdown",
      "metadata": {
        "id": "PuNpcGWlGRW4"
      },
      "source": [
        "## fixed padding tokenization"
      ]
    },
    {
      "cell_type": "code",
      "execution_count": null,
      "metadata": {
        "id": "nCzeofYQGRW4",
        "outputId": "f094ec4f-c5d7-47a2-a2ca-2d64b802cd98"
      },
      "outputs": [
        {
          "name": "stdout",
          "output_type": "stream",
          "text": [
            "CPU times: user 1e+03 ns, sys: 0 ns, total: 1e+03 ns\n",
            "Wall time: 1.91 µs\n"
          ]
        },
        {
          "data": {
            "text/plain": [
              "dict_keys(['input_ids', 'token_type_ids', 'attention_mask'])"
            ]
          },
          "execution_count": 12,
          "metadata": {},
          "output_type": "execute_result"
        }
      ],
      "source": [
        "%time\n",
        "\n",
        "# Tokenize, One by One. Slower\n",
        "tokenized_dataset = tokenizer_pretrained( raw_datasets[\"train\"][\"sentence1\"], raw_datasets[\"train\"][\"sentence2\"],\n",
        "                                    padding=True,   truncation=True )\n",
        "\n",
        "tokenized_dataset.keys()"
      ]
    },
    {
      "cell_type": "markdown",
      "metadata": {
        "id": "Tklr6QCMGRW5"
      },
      "source": [
        "## fixed padding, accelerated with `map`, tokenization"
      ]
    },
    {
      "cell_type": "code",
      "execution_count": null,
      "metadata": {
        "id": "RSIN1zzVGRW5",
        "outputId": "526df13f-263f-48af-de46-14916feaa69b"
      },
      "outputs": [
        {
          "name": "stdout",
          "output_type": "stream",
          "text": [
            "CPU times: user 1 µs, sys: 1 µs, total: 2 µs\n",
            "Wall time: 2.15 µs\n"
          ]
        },
        {
          "data": {
            "text/plain": [
              "dict_keys(['input_ids', 'token_type_ids', 'attention_mask'])"
            ]
          },
          "execution_count": 13,
          "metadata": {},
          "output_type": "execute_result"
        }
      ],
      "source": [
        "%time\n",
        "# Tokenize via GPU parallelization operation `map`\n",
        "\n",
        "def tokenize_function(example):\n",
        "    tokenized_example = tokenizer_pretrained(  example[\"sentence1\"], example[\"sentence2\"],\n",
        "                                        padding=True , truncation=True )\n",
        "    return tokenized_example\n",
        "\n",
        "# ACCELERATED / PARALLEL PROCESSING\n",
        "tokenized_datasets = raw_datasets.map(tokenize_function, batched=True)\n",
        "\n",
        "# Details of TOKENIZED DATASET\n",
        "tokenized_dataset.keys()"
      ]
    },
    {
      "cell_type": "markdown",
      "metadata": {
        "id": "2Qx5F1KRGRW5"
      },
      "source": [
        "## dynamic padding per batch level, tokenization"
      ]
    },
    {
      "cell_type": "code",
      "execution_count": null,
      "metadata": {
        "colab": {
          "referenced_widgets": [
            "fb8b5a90448644699d535ba4db3e7349"
          ]
        },
        "id": "OmXg_YI2GRW5",
        "outputId": "5275e9bc-43fa-480b-ba68-6c319a014c91"
      },
      "outputs": [
        {
          "name": "stdout",
          "output_type": "stream",
          "text": [
            "CPU times: user 1 µs, sys: 1e+03 ns, total: 2 µs\n",
            "Wall time: 1.91 µs\n"
          ]
        },
        {
          "data": {
            "application/vnd.jupyter.widget-view+json": {
              "model_id": "fb8b5a90448644699d535ba4db3e7349",
              "version_major": 2,
              "version_minor": 0
            },
            "text/plain": [
              "Map:   0%|          | 0/408 [00:00<?, ? examples/s]"
            ]
          },
          "metadata": {},
          "output_type": "display_data"
        }
      ],
      "source": [
        "%time\n",
        "# Tokenize via GPU parallelization operation `map`\n",
        "\n",
        "def tokenize_function(example):\n",
        "    # Removing static padding per batch\n",
        "    tokenized_example = tokenizer_pretrained(  example[\"sentence1\"], example[\"sentence2\"],\n",
        "                                        truncation=True )\n",
        "    return tokenized_example\n",
        "\n",
        "# ACCELERATED / PARALLEL PROCESSING\n",
        "tokenized_datasets = raw_datasets.map(tokenize_function, batched=True)\n",
        "\n",
        "tokenized_dataset.keys()\n",
        "\n",
        "data_collator       = huggingface_transformers.DataCollatorWithPadding(tokenizer= tokenizer_pretrained   )\n",
        "train_dataloader    = torch.utils.data.DataLoader(\n",
        "                                                    collate_fn = data_collator,             # Data Collator for dynamic padding inside pytorch\n",
        "                                                    dataset = tokenized_datasets['train'])"
      ]
    }
  ],
  "metadata": {
    "kernelspec": {
      "display_name": "base",
      "language": "python",
      "name": "python3"
    },
    "language_info": {
      "codemirror_mode": {
        "name": "ipython",
        "version": 3
      },
      "file_extension": ".py",
      "mimetype": "text/x-python",
      "name": "python",
      "nbconvert_exporter": "python",
      "pygments_lexer": "ipython3",
      "version": "3.11.5"
    },
    "colab": {
      "provenance": [],
      "include_colab_link": true
    }
  },
  "nbformat": 4,
  "nbformat_minor": 0
}