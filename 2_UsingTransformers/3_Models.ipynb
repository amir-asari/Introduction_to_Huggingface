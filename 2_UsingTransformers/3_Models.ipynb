{
  "cells": [
    {
      "cell_type": "markdown",
      "metadata": {
        "id": "view-in-github",
        "colab_type": "text"
      },
      "source": [
        "<a href=\"https://colab.research.google.com/github/amir-asari/Introduction_to_Huggingface/blob/main/2_UsingTransformers/3_Models.ipynb\" target=\"_parent\"><img src=\"https://colab.research.google.com/assets/colab-badge.svg\" alt=\"Open In Colab\"/></a>"
      ]
    },
    {
      "cell_type": "markdown",
      "metadata": {
        "id": "b5cjU26CFJyl"
      },
      "source": [
        "# Pipeline - Models\n"
      ]
    },
    {
      "cell_type": "markdown",
      "metadata": {
        "id": "vkXdjQtLFJyn"
      },
      "source": [
        "## 1. tokenizer"
      ]
    },
    {
      "cell_type": "code",
      "execution_count": null,
      "metadata": {
        "id": "Nns0rwAMFJyo",
        "outputId": "09bdbd0d-6f86-4c46-d51b-2f7d13ba4b0b"
      },
      "outputs": [
        {
          "name": "stdout",
          "output_type": "stream",
          "text": [
            "MODEL INPUT FORMAT: tensor([[101, 146, 102,   0],\n",
            "        [101, 146, 178, 102]])\n"
          ]
        }
      ],
      "source": [
        "import transformers\n",
        "\n",
        "# STEP 1 of PIPELINE\n",
        "tokenizer           = transformers.BertTokenizerFast    .from_pretrained(\"bert-base-cased\")\n",
        "\n",
        "\n",
        "\n",
        "\n",
        "raw_inputs = [\n",
        "    \"I\",\n",
        "    \"I i\",\n",
        "]\n",
        "input_numeric_ids = tokenizer(raw_inputs           , return_tensors= \"pt\", padding=True, truncation= False )\n",
        "print(f'MODEL INPUT FORMAT: {input_numeric_ids[\"input_ids\"]}')"
      ]
    },
    {
      "cell_type": "markdown",
      "metadata": {
        "id": "7m5X1JN8FJyo"
      },
      "source": [
        "## 2. model"
      ]
    },
    {
      "cell_type": "code",
      "execution_count": null,
      "metadata": {
        "id": "aTZG_yHNFJyp"
      },
      "outputs": [],
      "source": [
        "config              = transformers.BertConfig()\n",
        "model_untrained     = transformers.BertModel(config)\n",
        "\n",
        "model_pretrained    = transformers.BertModel(config).from_pretrained(\"bert-base-cased\")\n",
        "\n",
        "# model_pretrained.save_pretrained(\"MODEL_CHECKPOINT\")"
      ]
    },
    {
      "cell_type": "markdown",
      "metadata": {
        "id": "q4Ljs4kZFJyp"
      },
      "source": [
        "### model architecture"
      ]
    },
    {
      "cell_type": "code",
      "execution_count": null,
      "metadata": {
        "id": "AZnOfSTNFJyq"
      },
      "outputs": [],
      "source": [
        "from torchinfo import summary"
      ]
    },
    {
      "cell_type": "code",
      "execution_count": null,
      "metadata": {
        "id": "c7bOA6koFJyq",
        "outputId": "732ad9b3-f81a-48b5-ea40-7df564605a40"
      },
      "outputs": [
        {
          "data": {
            "text/plain": [
              "BertModel(\n",
              "  (embeddings): BertEmbeddings(\n",
              "    (word_embeddings): Embedding(28996, 768, padding_idx=0)\n",
              "    (position_embeddings): Embedding(512, 768)\n",
              "    (token_type_embeddings): Embedding(2, 768)\n",
              "    (LayerNorm): LayerNorm((768,), eps=1e-12, elementwise_affine=True)\n",
              "    (dropout): Dropout(p=0.1, inplace=False)\n",
              "  )\n",
              "  (encoder): BertEncoder(\n",
              "    (layer): ModuleList(\n",
              "      (0-11): 12 x BertLayer(\n",
              "        (attention): BertAttention(\n",
              "          (self): BertSelfAttention(\n",
              "            (query): Linear(in_features=768, out_features=768, bias=True)\n",
              "            (key): Linear(in_features=768, out_features=768, bias=True)\n",
              "            (value): Linear(in_features=768, out_features=768, bias=True)\n",
              "            (dropout): Dropout(p=0.1, inplace=False)\n",
              "          )\n",
              "          (output): BertSelfOutput(\n",
              "            (dense): Linear(in_features=768, out_features=768, bias=True)\n",
              "            (LayerNorm): LayerNorm((768,), eps=1e-12, elementwise_affine=True)\n",
              "            (dropout): Dropout(p=0.1, inplace=False)\n",
              "          )\n",
              "        )\n",
              "        (intermediate): BertIntermediate(\n",
              "          (dense): Linear(in_features=768, out_features=3072, bias=True)\n",
              "          (intermediate_act_fn): GELUActivation()\n",
              "        )\n",
              "        (output): BertOutput(\n",
              "          (dense): Linear(in_features=3072, out_features=768, bias=True)\n",
              "          (LayerNorm): LayerNorm((768,), eps=1e-12, elementwise_affine=True)\n",
              "          (dropout): Dropout(p=0.1, inplace=False)\n",
              "        )\n",
              "      )\n",
              "    )\n",
              "  )\n",
              "  (pooler): BertPooler(\n",
              "    (dense): Linear(in_features=768, out_features=768, bias=True)\n",
              "    (activation): Tanh()\n",
              "  )\n",
              ")"
            ]
          },
          "execution_count": 5,
          "metadata": {},
          "output_type": "execute_result"
        }
      ],
      "source": [
        "model_pretrained"
      ]
    },
    {
      "cell_type": "code",
      "execution_count": null,
      "metadata": {
        "id": "S4z4YqVVFJyq",
        "outputId": "7edff817-8f5d-4e79-82d4-17a08176f364"
      },
      "outputs": [
        {
          "data": {
            "text/plain": [
              "BertConfig {\n",
              "  \"_name_or_path\": \"bert-base-cased\",\n",
              "  \"architectures\": [\n",
              "    \"BertForMaskedLM\"\n",
              "  ],\n",
              "  \"attention_probs_dropout_prob\": 0.1,\n",
              "  \"classifier_dropout\": null,\n",
              "  \"gradient_checkpointing\": false,\n",
              "  \"hidden_act\": \"gelu\",\n",
              "  \"hidden_dropout_prob\": 0.1,\n",
              "  \"hidden_size\": 768,\n",
              "  \"initializer_range\": 0.02,\n",
              "  \"intermediate_size\": 3072,\n",
              "  \"layer_norm_eps\": 1e-12,\n",
              "  \"max_position_embeddings\": 512,\n",
              "  \"model_type\": \"bert\",\n",
              "  \"num_attention_heads\": 12,\n",
              "  \"num_hidden_layers\": 12,\n",
              "  \"pad_token_id\": 0,\n",
              "  \"position_embedding_type\": \"absolute\",\n",
              "  \"transformers_version\": \"4.32.1\",\n",
              "  \"type_vocab_size\": 2,\n",
              "  \"use_cache\": true,\n",
              "  \"vocab_size\": 28996\n",
              "}"
            ]
          },
          "execution_count": 6,
          "metadata": {},
          "output_type": "execute_result"
        }
      ],
      "source": [
        "model_pretrained.config"
      ]
    },
    {
      "cell_type": "code",
      "execution_count": null,
      "metadata": {
        "id": "DZ1Sxjq5FJyr"
      },
      "outputs": [],
      "source": [
        "\"\"\"\n",
        "\n",
        "Important **model** configuration terms\n",
        "- vocab_size\n",
        "- n_heads\n",
        "- n_layers\n",
        "- label2id\n",
        "- id2label\n",
        "- hidden_dim\n",
        "- dim\n",
        "\n",
        "\"\"\""
      ]
    },
    {
      "cell_type": "markdown",
      "metadata": {
        "id": "RKAjU7OqFJys"
      },
      "source": [
        "## model output"
      ]
    },
    {
      "cell_type": "code",
      "execution_count": null,
      "metadata": {
        "id": "f8d-C5bYFJys",
        "outputId": "9270ea6c-f5dd-48ec-e265-58f4b9adaa0b"
      },
      "outputs": [
        {
          "name": "stdout",
          "output_type": "stream",
          "text": [
            "MODEL OUTPUT FORMAT: {'last_hidden_state': tensor([[[ 0.6836,  0.0026,  0.2786,  ...,  0.0124,  0.1879, -0.3461],\n",
            "         [ 0.6484, -0.5279,  0.5269,  ...,  0.0431, -0.0380,  0.1852],\n",
            "         [ 1.2456, -0.5861, -0.3851,  ...,  0.2580,  0.3342, -0.6885],\n",
            "         [ 0.2281, -0.2294, -0.1892,  ...,  0.4093,  0.4445,  0.0702]],\n",
            "\n",
            "        [[ 0.5252, -0.0185,  0.0281,  ..., -0.0435,  0.3047, -0.0677],\n",
            "         [ 0.1264, -0.4435,  0.0129,  ...,  0.0092, -0.0471,  0.4685],\n",
            "         [ 0.5158, -0.3871,  0.0980,  ...,  0.0116,  0.3163,  0.2783],\n",
            "         [ 1.3754, -0.8230, -0.0875,  ...,  0.1698,  0.5718, -0.3831]]],\n",
            "       grad_fn=<NativeLayerNormBackward0>), 'pooler_output': tensor([[-0.5678,  0.4398,  0.9998,  ...,  0.9999, -0.9398,  0.9924],\n",
            "        [-0.6013,  0.4842,  0.9998,  ...,  0.9999, -0.8386,  0.9922]],\n",
            "       grad_fn=<TanhBackward0>), 'hidden_states': None, 'past_key_values': None, 'attentions': None, 'cross_attentions': None} \n",
            "MODEL_AUTO OUTPUT FORMAT: dict_keys(['last_hidden_state', 'pooler_output', 'hidden_states', 'past_key_values', 'attentions', 'cross_attentions']) \n"
          ]
        }
      ],
      "source": [
        "# Understanding model's output\n",
        "outputs = model_pretrained(**input_numeric_ids)\n",
        "print(f'MODEL OUTPUT FORMAT: {vars(outputs)} ' )\n",
        "print(f'MODEL_AUTO OUTPUT FORMAT: {vars(outputs).keys()} ' )"
      ]
    },
    {
      "cell_type": "code",
      "execution_count": null,
      "metadata": {
        "id": "y4c56BhOFJys",
        "outputId": "3b46d228-f53d-4e1e-c7f6-d97f7c4f56d0"
      },
      "outputs": [
        {
          "name": "stdout",
          "output_type": "stream",
          "text": [
            "torch.Size([2, 4, 768]) torch.Size([2, 768])\n"
          ]
        }
      ],
      "source": [
        "all_extracted_features_map  = outputs['last_hidden_state']\n",
        "compressed_features         = outputs['pooler_output']\n",
        "\n",
        "print(all_extracted_features_map.shape, compressed_features.shape)"
      ]
    },
    {
      "cell_type": "code",
      "execution_count": null,
      "metadata": {
        "id": "sPo9tYaFFJyt",
        "outputId": "4870d6e9-87b6-44ee-ed18-30046c9b4370"
      },
      "outputs": [
        {
          "ename": "SyntaxError",
          "evalue": "unterminated string literal (detected at line 4) (3007307497.py, line 3)",
          "output_type": "error",
          "traceback": [
            "\u001b[0;36m  Cell \u001b[0;32mIn[11], line 3\u001b[0;36m\u001b[0m\n\u001b[0;31m    print(f'Number of Senteces         = {BATCH_SIZE}, \\\u001b[0m\n\u001b[0m          ^\u001b[0m\n\u001b[0;31mSyntaxError\u001b[0m\u001b[0;31m:\u001b[0m unterminated string literal (detected at line 4)\n"
          ]
        }
      ],
      "source": [
        "BATCH_SIZE, SENTENCE_LENGTH, WORD_EMBEDDING_SIZE = outputs['last_hidden_state'].shape\n",
        "print(outputs['last_hidden_state'].shape)\n",
        "print(f'Number of Senteces         = {BATCH_SIZE}, Num of Words in Each Sentece = {SENTENCE_LENGTH}, Every Word Embedding Length  = {WORD_EMBEDDING_SIZE}')\n",
        "\n",
        "# EMBEDDING SIZE or HIDDEN SIZE"
      ]
    },
    {
      "cell_type": "code",
      "execution_count": null,
      "metadata": {
        "id": "8mIeMYgzFJyt"
      },
      "outputs": [],
      "source": []
    }
  ],
  "metadata": {
    "kernelspec": {
      "display_name": "base",
      "language": "python",
      "name": "python3"
    },
    "language_info": {
      "codemirror_mode": {
        "name": "ipython",
        "version": 3
      },
      "file_extension": ".py",
      "mimetype": "text/x-python",
      "name": "python",
      "nbconvert_exporter": "python",
      "pygments_lexer": "ipython3",
      "version": "3.11.5"
    },
    "colab": {
      "provenance": [],
      "include_colab_link": true
    }
  },
  "nbformat": 4,
  "nbformat_minor": 0
}