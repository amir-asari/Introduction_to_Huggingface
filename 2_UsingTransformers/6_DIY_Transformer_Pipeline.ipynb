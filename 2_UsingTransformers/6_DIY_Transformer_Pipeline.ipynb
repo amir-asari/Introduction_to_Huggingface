{
  "cells": [
    {
      "cell_type": "markdown",
      "metadata": {
        "id": "view-in-github",
        "colab_type": "text"
      },
      "source": [
        "<a href=\"https://colab.research.google.com/github/amir-asari/Introduction_to_Huggingface/blob/main/2_UsingTransformers/6_DIY_Transformer_Pipeline.ipynb\" target=\"_parent\"><img src=\"https://colab.research.google.com/assets/colab-badge.svg\" alt=\"Open In Colab\"/></a>"
      ]
    },
    {
      "cell_type": "markdown",
      "metadata": {
        "id": "_hrsKioPF5kg"
      },
      "source": [
        "## Transformers - End to ENd"
      ]
    },
    {
      "cell_type": "code",
      "execution_count": null,
      "metadata": {
        "id": "q3Hd8K66F5kh"
      },
      "outputs": [],
      "source": [
        "import transformers\n",
        "\n",
        "\n",
        "checkpoint  = \"distilbert-base-uncased-finetuned-sst-2-english\"\n",
        "tokenizer   = transformers. AutoTokenizer.                       from_pretrained(checkpoint)\n",
        "model       = transformers. AutoModelForSequenceClassification.  from_pretrained(checkpoint)\n",
        "sequences   = [\"I've been waiting for a HuggingFace course my whole life.\", \"So have I!\"]\n",
        "\n",
        "tokens      = tokenizer(sequences, padding=True, truncation=True, return_tensors=\"pt\")\n",
        "output      = model (   **tokens    )"
      ]
    },
    {
      "cell_type": "code",
      "execution_count": null,
      "metadata": {
        "id": "4OmP3iDrF5ki"
      },
      "outputs": [],
      "source": []
    }
  ],
  "metadata": {
    "kernelspec": {
      "display_name": "base",
      "language": "python",
      "name": "python3"
    },
    "language_info": {
      "codemirror_mode": {
        "name": "ipython",
        "version": 3
      },
      "file_extension": ".py",
      "mimetype": "text/x-python",
      "name": "python",
      "nbconvert_exporter": "python",
      "pygments_lexer": "ipython3",
      "version": "3.11.5"
    },
    "colab": {
      "provenance": [],
      "include_colab_link": true
    }
  },
  "nbformat": 4,
  "nbformat_minor": 0
}