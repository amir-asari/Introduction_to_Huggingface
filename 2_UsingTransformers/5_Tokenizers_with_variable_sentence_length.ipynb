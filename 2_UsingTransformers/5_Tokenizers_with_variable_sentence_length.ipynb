{
  "cells": [
    {
      "cell_type": "markdown",
      "metadata": {
        "id": "view-in-github",
        "colab_type": "text"
      },
      "source": [
        "<a href=\"https://colab.research.google.com/github/amir-asari/Introduction_to_Huggingface/blob/main/2_UsingTransformers/5_Tokenizers_with_variable_sentence_length.ipynb\" target=\"_parent\"><img src=\"https://colab.research.google.com/assets/colab-badge.svg\" alt=\"Open In Colab\"/></a>"
      ]
    },
    {
      "cell_type": "markdown",
      "metadata": {
        "id": "uKArrRy2Fnvv"
      },
      "source": [
        "## tokenize(), convert_tokens_to_ids(), decode()"
      ]
    },
    {
      "cell_type": "code",
      "execution_count": null,
      "metadata": {
        "id": "3mF8eR0dFnvy"
      },
      "outputs": [],
      "source": [
        "import transformers\n",
        "\n",
        "tokenizer = transformers.   BertTokenizer.  from_pretrained(\"bert-base-cased\")\n",
        "tokenizer = transformers.   AutoTokenizer.  from_pretrained(\"bert-base-cased\")"
      ]
    },
    {
      "cell_type": "code",
      "execution_count": null,
      "metadata": {
        "id": "BPS9DRu-Fnvz",
        "outputId": "f02c0af8-e899-461e-de5a-0fb7bab7c27a"
      },
      "outputs": [
        {
          "data": {
            "text/plain": [
              "(['hello', 'world'], [19082, 1362], 'hello world')"
            ]
          },
          "execution_count": 2,
          "metadata": {},
          "output_type": "execute_result"
        }
      ],
      "source": [
        "single_sentence = \"hello world\"\n",
        "tokens          = tokenizer.    tokenize                (single_sentence)\n",
        "numeric_ids     = tokenizer.    convert_tokens_to_ids   (tokens)\n",
        "\n",
        "decoded_string  = tokenizer.    decode                  (numeric_ids)\n",
        "\n",
        "tokens, numeric_ids, decoded_string"
      ]
    },
    {
      "cell_type": "code",
      "execution_count": null,
      "metadata": {
        "id": "z-jO1Zq0Fnv0",
        "outputId": "5979bed8-91bf-4a32-fb38-98c12b04ac59"
      },
      "outputs": [
        {
          "data": {
            "text/plain": [
              "['hello', 'world']"
            ]
          },
          "execution_count": 3,
          "metadata": {},
          "output_type": "execute_result"
        }
      ],
      "source": [
        "tokenizer.tokenize(\"hello world\")"
      ]
    },
    {
      "cell_type": "markdown",
      "metadata": {
        "id": "FWONtXG4Fnv0"
      },
      "source": [
        "## tokenize vs tokenizer\n",
        "`tokenizer.tokenize()` method vs `tokenizer() DIRECTLY`"
      ]
    },
    {
      "cell_type": "code",
      "execution_count": null,
      "metadata": {
        "id": "rwtbVzcqFnv1",
        "outputId": "6e6628c9-8d0f-46a4-e73c-d64f642f8ecc"
      },
      "outputs": [
        {
          "data": {
            "text/plain": [
              "{'input_ids': [101, 19082, 1362, 102], 'token_type_ids': [0, 0, 0, 0], 'attention_mask': [1, 1, 1, 1]}"
            ]
          },
          "execution_count": 4,
          "metadata": {},
          "output_type": "execute_result"
        }
      ],
      "source": [
        "tokenizer(\"hello world\")"
      ]
    },
    {
      "cell_type": "code",
      "execution_count": null,
      "metadata": {
        "id": "qOBCvBxuFnv1",
        "outputId": "c4458c2f-1579-4559-eebe-8b7d250e8fc9"
      },
      "outputs": [
        {
          "data": {
            "text/plain": [
              "{'input_ids': [[101, 19082, 1362, 102], [101, 11901, 11901, 1362, 102]], 'token_type_ids': [[0, 0, 0, 0], [0, 0, 0, 0, 0]], 'attention_mask': [[1, 1, 1, 1], [1, 1, 1, 1, 1]]}"
            ]
          },
          "execution_count": 5,
          "metadata": {},
          "output_type": "execute_result"
        }
      ],
      "source": [
        "tokenizer([\"hello world\", \"bye bye world\"])"
      ]
    },
    {
      "cell_type": "code",
      "execution_count": null,
      "metadata": {
        "id": "009LOP5jFnv1",
        "outputId": "5f21f44f-c84a-442d-92ee-3d717816ba6b"
      },
      "outputs": [
        {
          "data": {
            "text/plain": [
              "{'input_ids': [[101, 19082, 1362, 102, 0, 0], [101, 11901, 11901, 1362, 102, 0], [101, 1141, 1160, 1210, 1300, 102]], 'token_type_ids': [[0, 0, 0, 0, 0, 0], [0, 0, 0, 0, 0, 0], [0, 0, 0, 0, 0, 0]], 'attention_mask': [[1, 1, 1, 1, 0, 0], [1, 1, 1, 1, 1, 0], [1, 1, 1, 1, 1, 1]]}"
            ]
          },
          "execution_count": 6,
          "metadata": {},
          "output_type": "execute_result"
        }
      ],
      "source": [
        "tokenizer([\"hello world\", \"bye bye world\", \"one two three four\"], padding = True)"
      ]
    },
    {
      "cell_type": "code",
      "execution_count": null,
      "metadata": {
        "id": "7McpJ-t3Fnv2",
        "outputId": "39e9a83f-d0d6-46ef-b846-c7519962342a"
      },
      "outputs": [
        {
          "data": {
            "text/plain": [
              "{'input_ids': tensor([[  101, 19082,  1362,   102,     0],\n",
              "        [  101, 11901, 11901,  1362,   102]]), 'token_type_ids': tensor([[0, 0, 0, 0, 0],\n",
              "        [0, 0, 0, 0, 0]]), 'attention_mask': tensor([[1, 1, 1, 1, 0],\n",
              "        [1, 1, 1, 1, 1]])}"
            ]
          },
          "execution_count": 10,
          "metadata": {},
          "output_type": "execute_result"
        }
      ],
      "source": [
        "tokenizer([\"hello world\", \"bye bye world\"], padding = True, return_tensors=\"pt\") # pytorch"
      ]
    },
    {
      "cell_type": "code",
      "execution_count": null,
      "metadata": {
        "id": "xov90jkdFnv3"
      },
      "outputs": [],
      "source": []
    }
  ],
  "metadata": {
    "kernelspec": {
      "display_name": "base",
      "language": "python",
      "name": "python3"
    },
    "language_info": {
      "codemirror_mode": {
        "name": "ipython",
        "version": 3
      },
      "file_extension": ".py",
      "mimetype": "text/x-python",
      "name": "python",
      "nbconvert_exporter": "python",
      "pygments_lexer": "ipython3",
      "version": "3.11.5"
    },
    "colab": {
      "provenance": [],
      "include_colab_link": true
    }
  },
  "nbformat": 4,
  "nbformat_minor": 0
}