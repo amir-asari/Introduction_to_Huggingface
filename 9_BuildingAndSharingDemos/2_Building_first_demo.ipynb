{
  "cells": [
    {
      "cell_type": "markdown",
      "metadata": {
        "id": "view-in-github",
        "colab_type": "text"
      },
      "source": [
        "<a href=\"https://colab.research.google.com/github/amir-asari/Introduction_to_Huggingface/blob/main/9_BuildingAndSharingDemos/2_Building_first_demo.ipynb\" target=\"_parent\"><img src=\"https://colab.research.google.com/assets/colab-badge.svg\" alt=\"Open In Colab\"/></a>"
      ]
    },
    {
      "cell_type": "markdown",
      "metadata": {
        "id": "4nbuM93BIGAo"
      },
      "source": [
        "```python\n",
        "import gradio as gr\n",
        "\n",
        "gr.Interface(fn, inputs, outputs)\n",
        "gr.Textbox  (label, lines )\n",
        "\n",
        "gr.Audio(source, type, label)\n",
        "```"
      ]
    },
    {
      "cell_type": "code",
      "execution_count": null,
      "metadata": {
        "id": "E4SvtU5KIGAq"
      },
      "outputs": [],
      "source": [
        "import gradio as gr\n",
        "\n",
        "def function_with_input_and_output(name):\n",
        "    return \"Hello, person with name, <\" + name + \">!\"\n",
        "\n",
        "\n",
        "demo_interface = gr.Interface(\n",
        "                                fn = function_with_input_and_output,\n",
        "                                inputs = gr.Textbox(), outputs = gr.Textbox()\n",
        "                            )\n",
        "\n",
        "demo_interface.launch()"
      ]
    },
    {
      "cell_type": "code",
      "execution_count": null,
      "metadata": {
        "id": "yQrsML3xIGAr"
      },
      "outputs": [],
      "source": [
        "import gradio as gr\n",
        "\n",
        "\n",
        "def greet(name):\n",
        "    return \"Hello \" + name\n",
        "\n",
        "\n",
        "# We instantiate the Textbox class\n",
        "textbox = gr.Textbox(label=\"Type your name here:\", placeholder=\"John Doe\", lines=2)\n",
        "\n",
        "gr.Interface(fn=greet, inputs=textbox, outputs=gr.Textbox()).launch()\n"
      ]
    },
    {
      "cell_type": "code",
      "execution_count": null,
      "metadata": {
        "id": "cQO0xkxoIGAs"
      },
      "outputs": [],
      "source": [
        "from transformers import pipeline\n",
        "\n",
        "model = pipeline(\"text-generation\")\n",
        "\n",
        "\n",
        "def predict(prompt):\n",
        "    completion = model(prompt)[0][\"generated_text\"]\n",
        "    return completion\n",
        "\n",
        "import gradio as gr\n",
        "\n",
        "gr.Interface(fn=predict, inputs=\"text\", outputs=\"text\").launch()"
      ]
    }
  ],
  "metadata": {
    "kernelspec": {
      "display_name": "base",
      "language": "python",
      "name": "python3"
    },
    "language_info": {
      "codemirror_mode": {
        "name": "ipython",
        "version": 3
      },
      "file_extension": ".py",
      "mimetype": "text/x-python",
      "name": "python",
      "nbconvert_exporter": "python",
      "pygments_lexer": "ipython3",
      "version": "3.11.5"
    },
    "colab": {
      "provenance": [],
      "include_colab_link": true
    }
  },
  "nbformat": 4,
  "nbformat_minor": 0
}