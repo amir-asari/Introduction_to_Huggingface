{
  "cells": [
    {
      "cell_type": "markdown",
      "metadata": {
        "id": "view-in-github",
        "colab_type": "text"
      },
      "source": [
        "<a href=\"https://colab.research.google.com/github/amir-asari/Introduction_to_Huggingface/blob/main/1_TransformerModels/4_How_do_Transformers_work.ipynb\" target=\"_parent\"><img src=\"https://colab.research.google.com/assets/colab-badge.svg\" alt=\"Open In Colab\"/></a>"
      ]
    },
    {
      "cell_type": "code",
      "execution_count": null,
      "metadata": {
        "id": "Q00LMDJ_EJ1u"
      },
      "outputs": [],
      "source": [
        "import torch\n",
        "import torch.nn as nn\n",
        "\n",
        "single_data_point_vector   = torch.randn(100)\n",
        "million_data_point_vectors = torch.randn(1000000,100)\n",
        "\n",
        "encoder_of_information_into_condensed_dim = torch.nn.Sequential(\n",
        "    nn.Linear(out_features = 64 , in_features = 100),\n",
        "    nn.Linear(out_features = 32 , in_features = 64),\n",
        "    nn.Linear(out_features = 16 , in_features = 32),\n",
        "    nn.Linear(out_features = 8  , in_features = 16)\n",
        ")"
      ]
    },
    {
      "cell_type": "code",
      "execution_count": null,
      "metadata": {
        "id": "p3AcrzavEJ1x",
        "outputId": "416a3dc4-7c53-4215-cb97-40500c26ccae"
      },
      "outputs": [
        {
          "name": "stdout",
          "output_type": "stream",
          "text": [
            "input data shape -> torch.Size([100])\n",
            "output of first layer shape -> torch.Size([64])\n"
          ]
        }
      ],
      "source": [
        "layer = nn.Linear(out_features = 64, in_features = 100)\n",
        "print(f\"input data shape -> {single_data_point_vector.shape}\")\n",
        "print(f\"output of first layer shape -> {layer.forward(single_data_point_vector).shape}\")"
      ]
    },
    {
      "cell_type": "code",
      "execution_count": null,
      "metadata": {
        "id": "-VbnsKv2EJ1y"
      },
      "outputs": [],
      "source": [
        "decoder_from_condensed_to_original_dim = torch.nn.Sequential(\n",
        "    nn.Linear(out_features = 16 , in_features = 8),\n",
        "    nn.Linear(out_features = 32 , in_features = 16),\n",
        "    nn.Linear(out_features = 64 , in_features = 32),\n",
        "    nn.Linear(out_features = 100 , in_features = 64),\n",
        ")"
      ]
    },
    {
      "cell_type": "markdown",
      "metadata": {
        "id": "Z91SCvljEJ1y"
      },
      "source": [
        "|Neurons| input to each neuron  |  layer output |\n",
        "|---|---|---|\n",
        "| : 64  | : 100 |  : 64 |\n",
        "|   |   |   |\n",
        "|   |   |   |"
      ]
    },
    {
      "cell_type": "code",
      "execution_count": null,
      "metadata": {
        "id": "8IDdodd4EJ10"
      },
      "outputs": [],
      "source": [
        "encoder = torch.nn.Sequential(\n",
        "    nn.Linear(out_features = 64 , in_features = 100),   #   Neurons: 64  | input to each neuron: 100 | layer output: 64\n",
        "    nn.Linear(out_features = 32 , in_features = 64),    #   Neurons: 32  | input to each neuron: 64  | layer output: 32\n",
        "    nn.Linear(out_features = 16 , in_features = 32),    #   Neurons: 16  | input to each neuron: 32  | layer output: 16\n",
        "    nn.Linear(out_features = 8  , in_features = 16)     #   Neurons: 8   | input to each neuron: 16  | layer output: 8\n",
        ")\n",
        "\n",
        "decoder = torch.nn.Sequential(\n",
        "    nn.Linear(out_features = 16 , in_features = 8),     #   Neurons: 16  | input to each neuron: 100 | layer output: 64\n",
        "    nn.Linear(out_features = 32 , in_features = 16),    #   Neurons: 32  | input to each neuron: 100 | layer output: 64\n",
        "    nn.Linear(out_features = 64 , in_features = 32),    #   Neurons: 64  | input to each neuron: 100 | layer output: 64\n",
        "    nn.Linear(out_features = 100 , in_features = 64),   #   Neurons: 100  | input to each neuron: 100 | layer output: 64\n",
        ")\n",
        "\n",
        "model = nn.Sequential(\n",
        "    encoder,\n",
        "    decoder\n",
        ")"
      ]
    },
    {
      "cell_type": "code",
      "execution_count": null,
      "metadata": {
        "id": "nOcz-bu5EJ10"
      },
      "outputs": [],
      "source": []
    }
  ],
  "metadata": {
    "kernelspec": {
      "display_name": "base",
      "language": "python",
      "name": "python3"
    },
    "language_info": {
      "codemirror_mode": {
        "name": "ipython",
        "version": 3
      },
      "file_extension": ".py",
      "mimetype": "text/x-python",
      "name": "python",
      "nbconvert_exporter": "python",
      "pygments_lexer": "ipython3",
      "version": "3.11.5"
    },
    "colab": {
      "provenance": [],
      "include_colab_link": true
    }
  },
  "nbformat": 4,
  "nbformat_minor": 0
}